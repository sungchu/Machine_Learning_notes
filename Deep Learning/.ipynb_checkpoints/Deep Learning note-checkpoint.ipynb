{
 "cells": [
  {
   "cell_type": "markdown",
   "metadata": {},
   "source": [
    "# Deep Learning 學習筆記\n",
    "本筆記是基於「Deep Learning - 用 Python 進行深度學習的基礎理論實作」所撰寫的筆記"
   ]
  },
  {
   "cell_type": "markdown",
   "metadata": {},
   "source": [
    "## 感知器\n",
    "- 感知器是收到多個輸入訊號之後，在當作一個訊號輸出\n",
    "- 邏輯電路\n",
    "   - 單層感知器的邏輯電路: 表現線性區域\n",
    "      - 及閘(AND Gate)\n",
    "      - 反及閘(NAND Gate)\n",
    "      - 或閘(OR Gate)\n",
    "   - 多層感知器的邏輯電路: 表現非線性區域\n",
    "      - 互斥或閘(XOR Gate)"
   ]
  },
  {
   "cell_type": "markdown",
   "metadata": {},
   "source": [
    "## 神經網路"
   ]
  },
  {
   "cell_type": "markdown",
   "metadata": {},
   "source": [
    "### 活化函數\n",
    "- 以臨界值為分界來轉換輸出的函數\n",
    "- 決定如何活化輸入的訊號總和(如何發火)的功能\n",
    "- 常見的有階梯函數、sigmoid 函數及 ReLU 函數"
   ]
  },
  {
   "cell_type": "markdown",
   "metadata": {},
   "source": [
    "### 階梯函數\n"
   ]
  },
  {
   "cell_type": "markdown",
   "metadata": {},
   "source": [
    "### sigmoid 函數\n",
    "- <font size = 4>$ h(x)=\\frac{1} {1+exp(-x)} $ </font>"
   ]
  },
  {
   "cell_type": "code",
   "execution_count": 1,
   "metadata": {
    "scrolled": true
   },
   "outputs": [
    {
     "data": {
      "text/plain": [
       "<Figure size 640x480 with 1 Axes>"
      ]
     },
     "metadata": {},
     "output_type": "display_data"
    }
   ],
   "source": [
    "import numpy as np\n",
    "import matplotlib.pyplot as plt\n",
    "def sigmoid(x):\n",
    "    return 1/(1+np.exp(-x))\n",
    "x = np.arange(-5.0,5.0,0.1)\n",
    "y = sigmoid(x)\n",
    "plt.plot(x,y)\n",
    "plt.ylim(-0.1,1.1)\n",
    "plt.show()"
   ]
  },
  {
   "cell_type": "markdown",
   "metadata": {},
   "source": [
    "### ReLU 函數\n",
    "- sigmoid 函數在神經網路的歷史中，從很早之前就開始使用，但最近比較常用的是 ReLU 函數\n",
    "- 輸入超過0，就會將輸入直接輸出，如果是0以下，就輸出0的函數"
   ]
  },
  {
   "cell_type": "code",
   "execution_count": 2,
   "metadata": {},
   "outputs": [
    {
     "data": {
      "image/png": "[encoded data removed]",
      "text/plain": [
       "<Figure size 432x288 with 1 Axes>"
      ]
     },
     "metadata": {
      "needs_background": "light"
     },
     "output_type": "display_data"
    }
   ],
   "source": [
    "import numpy as np\n",
    "import matplotlib.pyplot as plt\n",
    "def relu(x):\n",
    "    return np.maximum(0,x)\n",
    "x = np.arange(-5.0,5.0,0.1)\n",
    "y = relu(x)\n",
    "plt.plot(x,y)\n",
    "plt.show()"
   ]
  },
  {
   "cell_type": "markdown",
   "metadata": {},
   "source": [
    "### 輸出層\n",
    "- 回歸問題要使用恆等函數\n",
    "- 兩個分類的類別問題使用 sigmoid 函數\n",
    "- 多分類的類別問題使用 softmax 函數"
   ]
  },
  {
   "cell_type": "markdown",
   "metadata": {},
   "source": [
    "### 恆等函數: 把輸入值直接輸出\n",
    "```python\n",
    "\n",
    "```"
   ]
  },
  {
   "cell_type": "code",
   "execution_count": 3,
   "metadata": {},
   "outputs": [],
   "source": [
    "def identityfunction(x):\n",
    "    return x"
   ]
  },
  {
   "cell_type": "markdown",
   "metadata": {},
   "source": [
    "### softmax 函數\n",
    "- <font size = 4>$ y_k=\\frac{exp(a_k)} {\\sum_{i=1}^{n} exp(a_i)} $ </font>\n",
    "   - $ y_k $ 是計算第 k 個輸出\n",
    "   - $ a_k $ 是輸入的第 k 個訊號\n",
    "- 輸出的是 0 到 1.0 之間的實數，且輸出的總和為 1，使得 softmax 函數的輸出可以解釋為機率\n",
    "- 一般而言，神經網路的類別會把相當於輸出最大神經元的類別當作辨識結果。即使套用 softmax 函數，輸出最大神經元的位置不變。神經網路進行分類時，一般會省略輸出層的 softmax 函數。"
   ]
  },
  {
   "cell_type": "code",
   "execution_count": 4,
   "metadata": {},
   "outputs": [],
   "source": [
    "def softmax(a):\n",
    "    exp_a = np.exp(a)\n",
    "    sum_exp_a = np.sum(exp_a)\n",
    "    y = exp_a / sum_exp_a\n",
    "    return y"
   ]
  },
  {
   "cell_type": "markdown",
   "metadata": {},
   "source": [
    "由於指數的值可能會變很大，而造成溢位，因此有了下方的改良方法\n",
    "\n",
    "\n",
    "<font size = 4>\n",
    "$ y_k=\\frac{exp(a_k)} {\\sum_{i=1}^{n} exp(a_i)} $ \n",
    "= $ y_k=\\frac{C exp(a_k)} {C\\sum_{i=1}^{n} exp(a_i)} $ \n",
    "= $ y_k=\\frac{C exp(a_k+logC)} {C\\sum_{i=1}^{n} exp(a_i+logC)} $\n",
    "= $ y_k=\\frac{C exp(a_k+C')} {C\\sum_{i=1}^{n} exp(a_i+C')} $\n",
    "\n",
    "</font>"
   ]
  },
  {
   "cell_type": "code",
   "execution_count": 5,
   "metadata": {},
   "outputs": [],
   "source": [
    "def softmax(a):\n",
    "    c = np.max(a) # 為了防範溢位，一般會使用輸入訊號中，最大的數值\n",
    "    exp_a = np.exp(a - c)\n",
    "    sum_exp_a = np.sum(exp_a)\n",
    "    y = exp_a / sum_exp_a\n",
    "    return y"
   ]
  },
  {
   "cell_type": "markdown",
   "metadata": {},
   "source": [
    "### MNIST 資料集: 手寫數字影像集\n",
    "- load_mnist(normalize=True, flatten=True, one_hot_label=False)\n",
    "   - load_mnist的函數是以「(訓練影像，訓練標籤)，(測試影像，測試標籤)」\n",
    "   - normalize 是設定輸入影像是否正規化為0.0~1.0的值\n",
    "      - 如果為 False，輸入影像的像素就維持原本的0~255\n",
    "   - flatten 是設定輸入影像是否變平(一維陣列)\n",
    "      - 如果為 False，輸入影像就是1*28*28的三維陣列\n",
    "      - 如果是 True，將儲存由784個元素形成的一維陣列\n",
    "   - one_hot_label 是設定是否儲存成 one-hot 編碼。one-hot編碼是指，如[0,0,1,0,0,0,0,0,0,0]，這種只有正確答案的標籤為1，其餘為0的陣列\n",
    "      - 如果是 False，就會儲存 7,2 這種單純成為正確答案的標籤\n",
    "      - 如果為 True，就儲存成 one-hot 編碼"
   ]
  },
  {
   "cell_type": "code",
   "execution_count": 5,
   "metadata": {},
   "outputs": [
    {
     "name": "stdout",
     "output_type": "stream",
     "text": [
      "(60000, 784)\n",
      "(60000,)\n",
      "(10000, 784)\n",
      "(10000,)\n"
     ]
    }
   ],
   "source": [
    "import sys, os\n",
    "#sys.path.append(os.pardir) # 載入父目錄檔案的設定\n",
    "from mnist import load_mnist\n",
    "\n",
    "# 一開始呼叫該檔案\n",
    "(x_train, t_train), (x_test, t_test) = load_mnist(flatten=True, normalize=False)\n",
    "\n",
    "# 分別輸出資料的形狀\n",
    "print(x_train.shape)\n",
    "print(t_train.shape)\n",
    "print(x_test.shape)\n",
    "print(t_test.shape)"
   ]
  },
  {
   "cell_type": "code",
   "execution_count": 6,
   "metadata": {},
   "outputs": [
    {
     "name": "stdout",
     "output_type": "stream",
     "text": [
      "5\n",
      "(784,)\n",
      "(28, 28)\n"
     ]
    }
   ],
   "source": [
    "import sys, os\n",
    "import numpy as np\n",
    "from mnist import load_mnist\n",
    "from PIL import Image\n",
    "\n",
    "def img_show(img):\n",
    "    pil_img = Image.fromarray(np.uint8(img))\n",
    "    pil_img.show()\n",
    "\n",
    "(x_train, t_train), (x_test, t_test) = load_mnist(flatten=True, normalize=False)\n",
    "\n",
    "img = x_train[0]\n",
    "label = t_train[0]\n",
    "print(label)\n",
    "\n",
    "print(img.shape)\n",
    "img = img.reshape(28,28) # 將形狀變形成原本的影像大小\n",
    "print(img.shape) \n",
    "\n",
    "img_show(img)"
   ]
  },
  {
   "cell_type": "code",
   "execution_count": 9,
   "metadata": {},
   "outputs": [],
   "source": [
    "# 測試資料\n",
    "## 輸入層的 784(28*28) 個神經元，輸出層的 10 個神經元\n",
    "\n",
    "import sys, os\n",
    "sys.path.append(os.pardir) \n",
    "import numpy as np\n",
    "import pickle\n",
    "from mnist import load_mnist\n",
    "from functions import sigmoid, softmax\n",
    "\n",
    "\n",
    "def get_data():\n",
    "    (x_train, t_train), (x_test, t_test) = load_mnist(normalize=True, flatten=True, one_hot_label=False)\n",
    "    return x_test, t_test\n",
    "\n",
    "# 在 init_network()中，載入儲存 pickle 檔案 sample_weight.pkl 中，已經學習完畢的權重參數。\n",
    "# 在這個檔案中，權重與偏權值的參數會儲存成字典型態的變數。\n",
    "def init_network():\n",
    "    with open(\"sample_weight.pkl\", 'rb') as f: # .pkl是 pickle 檔案，此功能可以把值形程式的物件，當作檔案儲存起來\n",
    "        network = pickle.load(f)\n",
    "    return network\n",
    "\n",
    "\n",
    "def predict(network, x):\n",
    "    W1, W2, W3 = network['W1'], network['W2'], network['W3']\n",
    "    b1, b2, b3 = network['b1'], network['b2'], network['b3']\n",
    "\n",
    "    a1 = np.dot(x, W1) + b1\n",
    "    z1 = sigmoid(a1)\n",
    "    a2 = np.dot(z1, W2) + b2\n",
    "    z2 = sigmoid(a2)\n",
    "    a3 = np.dot(z2, W3) + b3\n",
    "    y = softmax(a3)\n",
    "\n",
    "    return y"
   ]
  },
  {
   "cell_type": "code",
   "execution_count": 11,
   "metadata": {},
   "outputs": [
    {
     "name": "stdout",
     "output_type": "stream",
     "text": [
      "Accuracy:0.9352\n"
     ]
    }
   ],
   "source": [
    "x, t = get_data()\n",
    "network = init_network()\n",
    "\n",
    "accuracy_cnt = 0\n",
    "\n",
    "for i in range(len(x)):\n",
    "    y = predict(network, x[i])\n",
    "    p = np.argmax(y) # 取得陣列中最大值的索引值\n",
    "    if p == t[i]: # 神經網路預測的答案與正確答案標籤比對\n",
    "        accuracy_cnt += 1\n",
    "\n",
    "print(\"Accuracy:\" + str(float(accuracy_cnt) / len(x)))"
   ]
  },
  {
   "cell_type": "code",
   "execution_count": 12,
   "metadata": {},
   "outputs": [
    {
     "name": "stdout",
     "output_type": "stream",
     "text": [
      "Accuracy:0.9352\n"
     ]
    }
   ],
   "source": [
    "# 把上個 cell 的內容改成批次處理的寫法，批次處理可以縮短影像處理的時間\n",
    "x, t = get_data()\n",
    "network = init_network()\n",
    "\n",
    "batch_size = 100 # 批次處理的量\n",
    "accuracy_cnt = 0\n",
    "\n",
    "for i in range(0, len(x), batch_size):\n",
    "    x_batch = x[i:i+batch_size]\n",
    "    y_batch = predict(network, x_batch)\n",
    "    p = np.argmax(y_batch,axis = 1) \n",
    "    accuracy_cnt += np.sum(p == t[i:i+batch_size])\n",
    "\n",
    "print(\"Accuracy:\" + str(float(accuracy_cnt) / len(x)))"
   ]
  },
  {
   "cell_type": "markdown",
   "metadata": {},
   "source": [
    "## 神經網路的學習\n",
    "- 神經網路也就是利用資料，自動決定權重參數的值\n",
    "- 感知收斂定理: 藉由次數有限的學習，解決線性分離問題。但非線性分離問題無法學習\n",
    "- 機器學習的方法(依序為人為、半人為、無人為)\n",
    "   1. 資料 > 人類想出的演算法 > 答案\n",
    "   2. 資料 > 人類想出來的特徵量(SIFT、SURF、HOG等) > 機器學習(SVM、KNN等) > 答案\n",
    "      - 特徵量是指可以從輸入資料(影像)中，精準擷取出本質資料(重要資料)的轉換器\n",
    "      - 需要根據問題使用適當的特徵量，不然也無法獲得良好的結果\n",
    "   3. 資料 > 神經網路(深度學習) > 答案"
   ]
  },
  {
   "cell_type": "markdown",
   "metadata": {},
   "source": [
    "## 損失函數\n",
    "- 在神經網路的學習中，會根據某個單一指標，表現目前的狀態，並以該指標為基準找尋**最適合的權重參數**，而該指標就稱為損失函數\n",
    "- 損失函數可以使用任意函數，但主要使用均方誤差或交叉熵誤差\n",
    "- 損失函數小，與訓練資料的誤差較小"
   ]
  },
  {
   "cell_type": "markdown",
   "metadata": {},
   "source": [
    "### 均方誤差(mean squared error): 越小越好\n",
    "- $ E = \\frac {1} {2} \\sum_k (y_k-t_k)^2 $"
   ]
  },
  {
   "cell_type": "code",
   "execution_count": 1,
   "metadata": {},
   "outputs": [],
   "source": [
    "def mean_squared_error(y,t):\n",
    "    return 0.5 * np.sum((y-t)**2)"
   ]
  },
  {
   "cell_type": "markdown",
   "metadata": {},
   "source": [
    "### 交叉熵誤差(cross entropy error): 越小越好\n",
    "- $ E = - \\sum_k t_k \\log y_k $"
   ]
  },
  {
   "cell_type": "code",
   "execution_count": 2,
   "metadata": {},
   "outputs": [],
   "source": [
    "def cross_entropy_error(y,t):\n",
    "    delta = 1e-7 # 加上微小值 delta 避免 np.log(0) 會變成負無限大的 -inf\n",
    "    return -np.sum(t*np.log(y+delta))"
   ]
  },
  {
   "cell_type": "markdown",
   "metadata": {},
   "source": [
    "## 神經網路的梯度法(gradient method)\n",
    "- 了解梯度法前，需先了解中央差分、偏微分及梯度\n",
    "   - 中央差分: 如果用數值微分會有誤差，所以使用中央差分，也就是計算$(x+h)$與$(x-h)$的函數$f$差分，以減少誤差\n",
    "   - 偏微分: 當算式有兩個以上變數，針對其中一個變數進行微分\n",
    "   - 梯度: $(\\frac{\\partial f}{\\partial x_0},\\frac{\\partial f}{\\partial x_1})$ 這種把全部變數的偏微分當作向量來統一的方式"
   ]
  },
  {
   "cell_type": "markdown",
   "metadata": {},
   "source": [
    "### 中央差分"
   ]
  },
  {
   "cell_type": "code",
   "execution_count": 25,
   "metadata": {},
   "outputs": [],
   "source": [
    "def numerical_diff(f,x):\n",
    "    h = 1e-4 #0.0001\n",
    "    return (f(x+h) - f(x-h)) / (2*h)"
   ]
  },
  {
   "cell_type": "markdown",
   "metadata": {},
   "source": [
    "### 偏微分範例\n",
    "以 $ f(x_0,x_1) = x^2_0 + x^2_1 $ 為例"
   ]
  },
  {
   "cell_type": "code",
   "execution_count": 26,
   "metadata": {},
   "outputs": [],
   "source": [
    "# 偏微分\n",
    "def function_2(x):\n",
    "    return x[0]**2 + x[1]**2\n",
    "    # 或 return np.sum(x**2) "
   ]
  },
  {
   "cell_type": "markdown",
   "metadata": {},
   "source": [
    "### 梯度\n",
    "- 梯度顯示的方向是在各個位置中，函數值減少最多的方向"
   ]
  },
  {
   "cell_type": "code",
   "execution_count": 27,
   "metadata": {},
   "outputs": [],
   "source": [
    "def numerical_gradient(f,x):  # f 為函數，x 為 NumPy 陣列\n",
    "    h = 1e-4 #0.0001\n",
    "    grad = np.zeros_like(x)\n",
    "    \n",
    "    for idx in range(x.size):\n",
    "        tmp_val = x[idx]\n",
    "        # 計算 f(x+h)\n",
    "        x[idx] = tmp_val + h\n",
    "        fxh1 = f(x)\n",
    "        \n",
    "        # 計算 f(x-h)\n",
    "        x[idx] = tmp_val - h\n",
    "        fxh2 = f(x)\n",
    "        \n",
    "        grad[idx] = (fxh1 - fxh2) / (2*h)\n",
    "        x[idx] = tmp_val # 恢復原值\n",
    "    return grad"
   ]
  },
  {
   "cell_type": "code",
   "execution_count": 28,
   "metadata": {},
   "outputs": [
    {
     "data": {
      "text/plain": [
       "array([6., 8.])"
      ]
     },
     "execution_count": 28,
     "metadata": {},
     "output_type": "execute_result"
    }
   ],
   "source": [
    "import numpy as np\n",
    "numerical_gradient(function_2, np.array([3.0,4.0])) # 點 (3,4) 的梯度是 (6,8)"
   ]
  },
  {
   "cell_type": "markdown",
   "metadata": {},
   "source": [
    "### 梯度法\n",
    "- **用梯度找出函數的最小值的方法**。原理是反覆往梯度方向移動，逐漸減少函數值的方法，就是梯度法\n",
    "- 梯度法是找出梯度為 0 的位置，但卻不見得是最小值，有可能是極小值或是鞍點\n",
    "- 要注意的是，梯度是在各個地點，指出減少最多函數值的方向。無法保證梯度指出的位置使否真的是函數的最小值，以及這個方向是否正確，但朝向該方向，卻能減少最多函數值\n",
    "- 當函數形成複雜的扭曲形狀時，可能進入平坦無法繼續學習的狀態，稱為「停滯期」\n",
    "- 以算式表示:\n",
    "\n",
    "    $ x_0 = x_0 - \\eta \\frac {\\partial f} {\\partial x_0} $\n",
    "\n",
    "    $ x_1 = x_1 - \\eta \\frac {\\partial f} {\\partial x_1} $\n",
    "    - $ \\eta $ 代表更新的量，在神經網路的學習中，稱作**學習率(learning rate)**\n",
    "    - 學習率決定了在一次學習中，要學習多少，更新多少參數\n",
    "    - 學習率太大或太小，都無法達到「適當的位置」\n",
    "- 找出最小值時，會稱為梯度下降法(gradient descent method)；找出最大值時，會稱為梯度上升法(gradient ascent method)"
   ]
  },
  {
   "cell_type": "code",
   "execution_count": 29,
   "metadata": {},
   "outputs": [],
   "source": [
    "# 梯度下降法\n",
    "def gradient_descent(f, init_x, lr=0.01, step_num=100): \n",
    "    # f 是要最佳化的函數，init_x 是預設值，lr 是代表 learning rate 的學習率，step_num 是用梯度法重複的次數\n",
    "    x = init_x\n",
    "    \n",
    "    for i in range(step_num):\n",
    "        grad = numerical_gradient(f, x)\n",
    "        x -= lr * grad\n",
    "    \n",
    "    return x"
   ]
  },
  {
   "cell_type": "markdown",
   "metadata": {},
   "source": [
    "#### 梯度法範例(續偏微分範例)\n",
    "用梯度法求出 $ f(x_0,x_1) = x^2_0 + x^2_1 $ 的最小值"
   ]
  },
  {
   "cell_type": "code",
   "execution_count": 30,
   "metadata": {},
   "outputs": [
    {
     "data": {
      "text/plain": [
       "array([-6.11110793e-10,  8.14814391e-10])"
      ]
     },
     "execution_count": 30,
     "metadata": {},
     "output_type": "execute_result"
    }
   ],
   "source": [
    "init_x = np.array([-3.0,4.0]) # 假設預設值為(-3.0,4.0)\n",
    "gradient_descent(function_2, init_x = init_x, lr = 0.1, step_num = 100)\n",
    "# 結果為(-6.11110793e-10, 8.14814391e-10)，趨近於(0,0)，實際上最小值也是(0,0)"
   ]
  },
  {
   "cell_type": "code",
   "execution_count": 31,
   "metadata": {},
   "outputs": [
    {
     "data": {
      "text/plain": [
       "array([-2.58983747e+13, -1.29524862e+12])"
      ]
     },
     "execution_count": 31,
     "metadata": {},
     "output_type": "execute_result"
    }
   ],
   "source": [
    "#若學習率太大，會往大數值擴散 (設lr=10.0)\n",
    "init_x = np.array([-3.0,4.0]) # 假設預設值為(-3.0,4.0)\n",
    "gradient_descent(function_2, init_x = init_x, lr = 10.0, step_num = 100)"
   ]
  },
  {
   "cell_type": "code",
   "execution_count": 32,
   "metadata": {},
   "outputs": [
    {
     "data": {
      "text/plain": [
       "array([-2.99999994,  3.99999992])"
      ]
     },
     "execution_count": 32,
     "metadata": {},
     "output_type": "execute_result"
    }
   ],
   "source": [
    "#若學習率太小，幾乎不會更新就結束 (設lr=1e-10)\n",
    "init_x = np.array([-3.0,4.0]) # 假設預設值為(-3.0,4.0)\n",
    "gradient_descent(function_2, init_x = init_x, lr = 1e-10, step_num = 100)"
   ]
  },
  {
   "cell_type": "markdown",
   "metadata": {},
   "source": [
    "### 神經網路的梯度範例\n",
    "假設有個形狀只有2*3、權重為 $W$ 的神經網路，以 $L$ 代表損失函數。此時，可以用 $\\frac {\\partial L} {\\partial W}$ 來表示梯度。算式如下\n",
    "\n",
    "$ W = \n",
    "\\begin{pmatrix}\n",
    "w_{11} & w_{21} & w_{31}\\\\ \n",
    "w_{12} & w_{22} & w_{32}\n",
    "\\end{pmatrix} $\n",
    "\n",
    "$ \\frac {\\partial L}{\\partial W} = \n",
    "\\begin{pmatrix}\n",
    "\\frac {\\partial L}{\\partial w_{11}} & \\frac {\\partial L}{\\partial w_{21}} & \\frac {\\partial L}{\\partial w_{31}}\\\\ \n",
    "\\frac {\\partial L}{\\partial w_{12}} & \\frac {\\partial L}{\\partial w_{22}} & \\frac {\\partial L}{\\partial w_{32}}\n",
    "\\end{pmatrix} $"
   ]
  },
  {
   "cell_type": "code",
   "execution_count": 33,
   "metadata": {},
   "outputs": [],
   "source": [
    "import sys, os\n",
    "import numpy as np\n",
    "from functions import softmax, cross_entropy_error\n",
    "from gradient import numerical_gradient\n",
    "\n",
    "\n",
    "class simpleNet: # 把形狀為2*3的權重參數，當作一個實例變數\n",
    "    def __init__(self):\n",
    "        self.W = np.random.randn(2,3) # 以常態分佈初始化\n",
    "\n",
    "    def predict(self, x):\n",
    "        return np.dot(x, self.W) \n",
    "\n",
    "    def loss(self, x, t): # 計算損失函數用的方法，在引數 x 輸入資料，在 t 輸入正確答案標籤\n",
    "        z = self.predict(x)\n",
    "        y = softmax(z)\n",
    "        loss = cross_entropy_error(y, t)\n",
    "\n",
    "        return loss"
   ]
  },
  {
   "cell_type": "code",
   "execution_count": 35,
   "metadata": {},
   "outputs": [
    {
     "name": "stdout",
     "output_type": "stream",
     "text": [
      "[[ 0.18099992  0.38184672 -0.56284664]\n",
      " [ 0.27149988  0.57277008 -0.84426995]]\n"
     ]
    }
   ],
   "source": [
    "x = np.array([0.6, 0.9]) # 函數 f 的引數\n",
    "t = np.array([0, 0, 1]) # 正確答案標籤\n",
    "\n",
    "net = simpleNet()\n",
    "\n",
    "f = lambda w: net.loss(x, t) \n",
    "dW = numerical_gradient(f, net.W) \n",
    "# numerical_gradient(f,x) 是計算梯度，net.W 是權重參數\n",
    "\n",
    "print(dW)\n",
    "# w11 約為 0.2，代表 w11 增加 h ，損失函數的值就會增加 0.2h\n",
    "# w32 約為 -0.5，代表 w32 增加 h ，損失函數減少 0.5h\n",
    "# 從減少損失函數的觀點來看， w32要往正值方向更新， w11 往負值方向更新即可，且 w32 的貢獻比 w11 大"
   ]
  },
  {
   "cell_type": "markdown",
   "metadata": {},
   "source": [
    "## 執行學習演算法\n",
    "- 神經網路的學習步驟:\n",
    "   - 前提: 神經網路擁有適合的權重與偏權值，為了符合訓練資料，而調整權重與偏權值，這就稱作「學習」。神經網路是按照以下四個步驟來學習。\n",
    "   - 步驟一: 小批次\n",
    "      - 從續練資料中，隨機挑選出部分資料\n",
    "      - 挑選出來的資料稱做小批次，這個步驟是以減少小批次的損失函數數值為目標\n",
    "   - 步驟二: 計算梯度\n",
    "      - 為了減少小批次的損失函數，計算出各權重參數的梯度\n",
    "      - 梯度會顯示出損失函數值減少最多的方向\n",
    "   - 步驟三: 更新參數\n",
    "      - 權重參數只往梯度方向進行微量更新\n",
    "   - 步驟四: 重複\n",
    "      - 重複執行步驟一、步驟二、步驟三\n",
    "- 準確率梯度下降(stochastic gradient descent [SGD]): 針對隨機挑選出的資料進行梯度下降法\n",
    "   - 準確率是指「準確隨機挑選」之意"
   ]
  },
  {
   "cell_type": "markdown",
   "metadata": {},
   "source": [
    "### 範例: 以雙層神經網路為對象，使用MNIST資料集來學習\n",
    "- 權重參數的預設值該如何設定，是決定神經網路學習成功與否的重要關鍵。這裡只簡單介紹權重是按照常態分佈的亂數來進行初始化，偏權值以 0 來初始化，後續會再詳細討論\n",
    "- 為了要測試神經網路是不是能正確辨識訓練資料以外的資料，就要確認有沒有出現「過度學習」的狀況\n",
    "   - 過度學習是指，只有訓練資料內的數字影像才能正確辨識，但是訓練資料以外的數字影像，就無法辨識"
   ]
  },
  {
   "cell_type": "code",
   "execution_count": 1,
   "metadata": {},
   "outputs": [],
   "source": [
    "# 引入 TwoLayerNet 類別\n",
    "import sys, os\n",
    "from functions import *\n",
    "from gradient import numerical_gradient\n",
    "\n",
    "\n",
    "class TwoLayerNet:\n",
    "\n",
    "    def __init__(self, input_size, hidden_size, output_size, weight_init_std=0.01):\n",
    "        # 權重初始化\n",
    "        self.params = {}  # params 是維持神經網路參數的字典變數(實例變數)\n",
    "        self.params['W1'] = weight_init_std * np.random.randn(input_size, hidden_size)\n",
    "        self.params['b1'] = np.zeros(hidden_size)\n",
    "        self.params['W2'] = weight_init_std * np.random.randn(hidden_size, output_size)\n",
    "        self.params['b2'] = np.zeros(output_size)\n",
    "\n",
    "    def predict(self, x): # 進行辨識 # x 是影像資料\n",
    "        W1, W2 = self.params['W1'], self.params['W2']\n",
    "        b1, b2 = self.params['b1'], self.params['b2']\n",
    "    \n",
    "        a1 = np.dot(x, W1) + b1\n",
    "        z1 = sigmoid(a1)\n",
    "        a2 = np.dot(z1, W2) + b2\n",
    "        y = softmax(a2)\n",
    "        \n",
    "        return y\n",
    "        \n",
    "    # x:輸入資料, t:正確答案標籤\n",
    "    def loss(self, x, t): # 計算損失函數\n",
    "        y = self.predict(x)\n",
    "        \n",
    "        return cross_entropy_error(y, t)\n",
    "    \n",
    "    def accuracy(self, x, t):\n",
    "        y = self.predict(x)\n",
    "        y = np.argmax(y, axis=1)\n",
    "        t = np.argmax(t, axis=1)\n",
    "        \n",
    "        accuracy = np.sum(y == t) / float(x.shape[0])\n",
    "        return accuracy\n",
    "        \n",
    "    # x:輸入資料, t:正確答案標籤\n",
    "    def numerical_gradient(self, x, t):\n",
    "        loss_W = lambda W: self.loss(x, t)\n",
    "        \n",
    "        grads = {}\n",
    "        grads['W1'] = numerical_gradient(loss_W, self.params['W1'])\n",
    "        grads['b1'] = numerical_gradient(loss_W, self.params['b1'])\n",
    "        grads['W2'] = numerical_gradient(loss_W, self.params['W2'])\n",
    "        grads['b2'] = numerical_gradient(loss_W, self.params['b2'])\n",
    "        \n",
    "        return grads # 維持梯度的字典變數\n",
    "        \n",
    "    def gradient(self, x, t): # 誤差反向傳播法，numerical_gradient(self,x,t) 的高速版，後面會深入討論\n",
    "        W1, W2 = self.params['W1'], self.params['W2']\n",
    "        b1, b2 = self.params['b1'], self.params['b2']\n",
    "        grads = {}\n",
    "        \n",
    "        batch_num = x.shape[0]\n",
    "        \n",
    "        # forward\n",
    "        a1 = np.dot(x, W1) + b1\n",
    "        z1 = sigmoid(a1)\n",
    "        a2 = np.dot(z1, W2) + b2\n",
    "        y = softmax(a2)\n",
    "        \n",
    "        # backward\n",
    "        dy = (y - t) / batch_num\n",
    "        grads['W2'] = np.dot(z1.T, dy)\n",
    "        grads['b2'] = np.sum(dy, axis=0)\n",
    "        \n",
    "        dz1 = np.dot(dy, W2.T)\n",
    "        da1 = sigmoid_grad(a1) * dz1\n",
    "        grads['W1'] = np.dot(x.T, da1)\n",
    "        grads['b1'] = np.sum(da1, axis=0)\n",
    "\n",
    "        return grads"
   ]
  },
  {
   "cell_type": "code",
   "execution_count": 2,
   "metadata": {},
   "outputs": [
    {
     "data": {
      "text/plain": [
       "(10,)"
      ]
     },
     "execution_count": 2,
     "metadata": {},
     "output_type": "execute_result"
    }
   ],
   "source": [
    "# 深入了解 TwoLayerNet\n",
    "net = TwoLayerNet(input_size = 784, hidden_size = 100, output_size = 10)\n",
    "net.params['W1'].shape # (784,100)\n",
    "net.params['b1'].shape # (100,)\n",
    "net.params['W2'].shape # (100,10)\n",
    "net.params['b2'].shape # (10,)\n",
    "\n",
    "import numpy as np\n",
    "# np.random.rand(): 生成 [0, 1) 之間的隨機樣本\n",
    "x = np.random.rand(100, 784) # 虛擬輸入資料 (100張)\n",
    "t = np.random.rand(100, 10)  # 虛擬正確答案標籤 (100張)\n",
    "\n",
    "grads = net.numerical_gradient(x, t) # 計算梯度\n",
    "\n",
    "grads['W1'].shape # (784,100)\n",
    "grads['b1'].shape # (100,)\n",
    "grads['W2'].shape # (100,10)\n",
    "grads['b2'].shape # (10,)"
   ]
  },
  {
   "cell_type": "code",
   "execution_count": 4,
   "metadata": {},
   "outputs": [
    {
     "name": "stdout",
     "output_type": "stream",
     "text": [
      "train acc, test acc | 0.11866666666666667, 0.123\n",
      "train acc, test acc | 0.79655, 0.8012\n",
      "train acc, test acc | 0.8795166666666666, 0.8829\n",
      "train acc, test acc | 0.8989, 0.9013\n",
      "train acc, test acc | 0.9072, 0.9105\n",
      "train acc, test acc | 0.9143833333333333, 0.9155\n",
      "train acc, test acc | 0.9191666666666667, 0.9199\n",
      "train acc, test acc | 0.9222166666666667, 0.9233\n",
      "train acc, test acc | 0.92645, 0.9292\n",
      "train acc, test acc | 0.9292333333333334, 0.9319\n",
      "train acc, test acc | 0.9321333333333334, 0.9355\n",
      "train acc, test acc | 0.9348, 0.9362\n",
      "train acc, test acc | 0.93605, 0.9381\n",
      "train acc, test acc | 0.9397333333333333, 0.9414\n",
      "train acc, test acc | 0.9414333333333333, 0.9427\n",
      "train acc, test acc | 0.94385, 0.9445\n",
      "train acc, test acc | 0.9455166666666667, 0.9452\n"
     ]
    },
    {
     "data": {
      "image/png": "[encoded data removed]",
      "text/plain": [
       "<Figure size 432x288 with 1 Axes>"
      ]
     },
     "metadata": {
      "needs_background": "light"
     },
     "output_type": "display_data"
    }
   ],
   "source": [
    "# 使用 MNIST 資料集進行學習\n",
    "# 隨著訓練資料的損失函數值減少，表示神經網路的學習順利進行\n",
    "import sys, os\n",
    "import numpy as np\n",
    "import matplotlib.pyplot as plt\n",
    "from mnist import load_mnist\n",
    "# from two_layer_net import TwoLayerNet\n",
    "\n",
    "# 引入 MNIST 函數\n",
    "(x_train, t_train), (x_test, t_test) = load_mnist(normalize=True, one_hot_label=True)\n",
    "\n",
    "# 導入上方 TwoLayerNet 類別\n",
    "network = TwoLayerNet(input_size=784, hidden_size=50, output_size=10)\n",
    "\n",
    "# 超參數\n",
    "iters_num = 10000  \n",
    "train_size = x_train.shape[0]\n",
    "batch_size = 100\n",
    "learning_rate = 0.1\n",
    "\n",
    "train_loss_list = []\n",
    "train_acc_list = []\n",
    "test_acc_list = []\n",
    "#每 1 epoch 的重複次數\n",
    "iter_per_epoch = max(train_size / batch_size, 1)  \n",
    "\n",
    "for i in range(iters_num):\n",
    "    # 取得小批次\n",
    "    batch_mask = np.random.choice(train_size, batch_size)\n",
    "    x_batch = x_train[batch_mask]\n",
    "    t_batch = t_train[batch_mask]\n",
    "    \n",
    "    # 計算梯度\n",
    "    #grad = network.numerical_gradient(x_batch, t_batch)\n",
    "    grad = network.gradient(x_batch, t_batch)\n",
    "    \n",
    "    # 記錄學習過程\n",
    "    for key in ('W1', 'b1', 'W2', 'b2'):\n",
    "        network.params[key] -= learning_rate * grad[key]\n",
    "    \n",
    "    loss = network.loss(x_batch, t_batch)\n",
    "    train_loss_list.append(loss)\n",
    "    \n",
    "    #計算 1 epoch 的辨識準確度\n",
    "    if i % iter_per_epoch == 0:   \n",
    "        train_acc = network.accuracy(x_train, t_train)\n",
    "        test_acc = network.accuracy(x_test, t_test)\n",
    "        train_acc_list.append(train_acc)\n",
    "        test_acc_list.append(test_acc)\n",
    "        print(\"train acc, test acc | \" + str(train_acc) + \", \" + str(test_acc))\n",
    "\n",
    "# 畫圖\n",
    "markers = {'train': 'o', 'test': 's'}\n",
    "x = np.arange(len(train_acc_list))\n",
    "plt.plot(x, train_acc_list, label='train acc')\n",
    "plt.plot(x, test_acc_list, label='test acc', linestyle='--')\n",
    "plt.xlabel(\"epochs\")\n",
    "plt.ylabel(\"accuracy\")\n",
    "plt.ylim(0, 1.0)\n",
    "plt.legend(loc='lower right')\n",
    "plt.show() #從圖可知，兩種辨識的準確度沒有差別(幾乎重疊)，因此，學習沒有出現過度學習"
   ]
  },
  {
   "cell_type": "markdown",
   "metadata": {},
   "source": [
    "## 誤差反向傳播法\n",
    "- 在計算圖上由左往右進行計算的步驟，稱作正向傳播，其相反則是反向傳播(backward propagation)\n",
    "- "
   ]
  },
  {
   "cell_type": "code",
   "execution_count": null,
   "metadata": {},
   "outputs": [],
   "source": []
  },
  {
   "cell_type": "code",
   "execution_count": null,
   "metadata": {},
   "outputs": [],
   "source": []
  },
  {
   "cell_type": "code",
   "execution_count": null,
   "metadata": {},
   "outputs": [],
   "source": []
  },
  {
   "cell_type": "code",
   "execution_count": null,
   "metadata": {},
   "outputs": [],
   "source": []
  },
  {
   "cell_type": "code",
   "execution_count": null,
   "metadata": {},
   "outputs": [],
   "source": []
  },
  {
   "cell_type": "code",
   "execution_count": null,
   "metadata": {},
   "outputs": [],
   "source": []
  },
  {
   "cell_type": "code",
   "execution_count": null,
   "metadata": {},
   "outputs": [],
   "source": []
  }
 ],
 "metadata": {
  "kernelspec": {
   "display_name": "Python 3",
   "language": "python",
   "name": "python3"
  },
  "language_info": {
   "codemirror_mode": {
    "name": "ipython",
    "version": 3
   },
   "file_extension": ".py",
   "mimetype": "text/x-python",
   "name": "python",
   "nbconvert_exporter": "python",
   "pygments_lexer": "ipython3",
   "version": "3.7.3"
  }
 },
 "nbformat": 4,
 "nbformat_minor": 2
}
